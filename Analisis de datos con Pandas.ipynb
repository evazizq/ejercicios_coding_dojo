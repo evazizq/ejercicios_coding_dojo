{
 "cells": [
  {
   "cell_type": "code",
   "execution_count": 22,
   "metadata": {},
   "outputs": [],
   "source": [
    "import pandas as pd"
   ]
  },
  {
   "cell_type": "code",
   "execution_count": 23,
   "metadata": {},
   "outputs": [],
   "source": [
    "# Cargar el archivo CSV\n",
    "df = pd.read_csv(\"C:/Users/hp/Downloads/archive (3)/vgsales.csv\")"
   ]
  },
  {
   "cell_type": "markdown",
   "metadata": {},
   "source": [
    "# Mostrar las 10 primeras filas"
   ]
  },
  {
   "cell_type": "code",
   "execution_count": 24,
   "metadata": {},
   "outputs": [
    {
     "name": "stdout",
     "output_type": "stream",
     "text": [
      "   Rank                       Name Platform    Year         Genre Publisher  \\\n",
      "0     1                 Wii Sports      Wii  2006.0        Sports  Nintendo   \n",
      "1     2          Super Mario Bros.      NES  1985.0      Platform  Nintendo   \n",
      "2     3             Mario Kart Wii      Wii  2008.0        Racing  Nintendo   \n",
      "3     4          Wii Sports Resort      Wii  2009.0        Sports  Nintendo   \n",
      "4     5   Pokemon Red/Pokemon Blue       GB  1996.0  Role-Playing  Nintendo   \n",
      "5     6                     Tetris       GB  1989.0        Puzzle  Nintendo   \n",
      "6     7      New Super Mario Bros.       DS  2006.0      Platform  Nintendo   \n",
      "7     8                   Wii Play      Wii  2006.0          Misc  Nintendo   \n",
      "8     9  New Super Mario Bros. Wii      Wii  2009.0      Platform  Nintendo   \n",
      "9    10                  Duck Hunt      NES  1984.0       Shooter  Nintendo   \n",
      "\n",
      "   NA_Sales  EU_Sales  JP_Sales  Other_Sales  Global_Sales  \n",
      "0     41.49     29.02      3.77         8.46         82.74  \n",
      "1     29.08      3.58      6.81         0.77         40.24  \n",
      "2     15.85     12.88      3.79         3.31         35.82  \n",
      "3     15.75     11.01      3.28         2.96         33.00  \n",
      "4     11.27      8.89     10.22         1.00         31.37  \n",
      "5     23.20      2.26      4.22         0.58         30.26  \n",
      "6     11.38      9.23      6.50         2.90         30.01  \n",
      "7     14.03      9.20      2.93         2.85         29.02  \n",
      "8     14.59      7.06      4.70         2.26         28.62  \n",
      "9     26.93      0.63      0.28         0.47         28.31  \n"
     ]
    }
   ],
   "source": [
    "print(df.head(10))"
   ]
  },
  {
   "cell_type": "markdown",
   "metadata": {},
   "source": [
    "# Para ver las últimas 5 filas"
   ]
  },
  {
   "cell_type": "code",
   "execution_count": 25,
   "metadata": {},
   "outputs": [
    {
     "name": "stdout",
     "output_type": "stream",
     "text": [
      "        Rank                                              Name Platform  \\\n",
      "16593  16596                Woody Woodpecker in Crazy Castle 5      GBA   \n",
      "16594  16597                     Men in Black II: Alien Escape       GC   \n",
      "16595  16598  SCORE International Baja 1000: The Official Game      PS2   \n",
      "16596  16599                                        Know How 2       DS   \n",
      "16597  16600                                  Spirits & Spells      GBA   \n",
      "\n",
      "         Year     Genre   Publisher  NA_Sales  EU_Sales  JP_Sales  \\\n",
      "16593  2002.0  Platform       Kemco      0.01      0.00       0.0   \n",
      "16594  2003.0   Shooter  Infogrames      0.01      0.00       0.0   \n",
      "16595  2008.0    Racing  Activision      0.00      0.00       0.0   \n",
      "16596  2010.0    Puzzle    7G//AMES      0.00      0.01       0.0   \n",
      "16597  2003.0  Platform     Wanadoo      0.01      0.00       0.0   \n",
      "\n",
      "       Other_Sales  Global_Sales  \n",
      "16593          0.0          0.01  \n",
      "16594          0.0          0.01  \n",
      "16595          0.0          0.01  \n",
      "16596          0.0          0.01  \n",
      "16597          0.0          0.01  \n"
     ]
    }
   ],
   "source": [
    "print(df.tail())"
   ]
  },
  {
   "cell_type": "markdown",
   "metadata": {},
   "source": [
    "# Obtener informacion general"
   ]
  },
  {
   "cell_type": "code",
   "execution_count": 26,
   "metadata": {},
   "outputs": [
    {
     "name": "stdout",
     "output_type": "stream",
     "text": [
      "<class 'pandas.core.frame.DataFrame'>\n",
      "RangeIndex: 16598 entries, 0 to 16597\n",
      "Data columns (total 11 columns):\n",
      " #   Column        Non-Null Count  Dtype  \n",
      "---  ------        --------------  -----  \n",
      " 0   Rank          16598 non-null  int64  \n",
      " 1   Name          16598 non-null  object \n",
      " 2   Platform      16598 non-null  object \n",
      " 3   Year          16327 non-null  float64\n",
      " 4   Genre         16598 non-null  object \n",
      " 5   Publisher     16540 non-null  object \n",
      " 6   NA_Sales      16598 non-null  float64\n",
      " 7   EU_Sales      16598 non-null  float64\n",
      " 8   JP_Sales      16598 non-null  float64\n",
      " 9   Other_Sales   16598 non-null  float64\n",
      " 10  Global_Sales  16598 non-null  float64\n",
      "dtypes: float64(6), int64(1), object(4)\n",
      "memory usage: 1.4+ MB\n",
      "None\n"
     ]
    }
   ],
   "source": [
    "print(df.info())"
   ]
  },
  {
   "cell_type": "markdown",
   "metadata": {},
   "source": [
    "# Ver estadisticas descriptivas"
   ]
  },
  {
   "cell_type": "code",
   "execution_count": 27,
   "metadata": {},
   "outputs": [
    {
     "name": "stdout",
     "output_type": "stream",
     "text": [
      "               Rank          Year      NA_Sales      EU_Sales      JP_Sales  \\\n",
      "count  16598.000000  16327.000000  16598.000000  16598.000000  16598.000000   \n",
      "mean    8300.605254   2006.406443      0.264667      0.146652      0.077782   \n",
      "std     4791.853933      5.828981      0.816683      0.505351      0.309291   \n",
      "min        1.000000   1980.000000      0.000000      0.000000      0.000000   \n",
      "25%     4151.250000   2003.000000      0.000000      0.000000      0.000000   \n",
      "50%     8300.500000   2007.000000      0.080000      0.020000      0.000000   \n",
      "75%    12449.750000   2010.000000      0.240000      0.110000      0.040000   \n",
      "max    16600.000000   2020.000000     41.490000     29.020000     10.220000   \n",
      "\n",
      "        Other_Sales  Global_Sales  \n",
      "count  16598.000000  16598.000000  \n",
      "mean       0.048063      0.537441  \n",
      "std        0.188588      1.555028  \n",
      "min        0.000000      0.010000  \n",
      "25%        0.000000      0.060000  \n",
      "50%        0.010000      0.170000  \n",
      "75%        0.040000      0.470000  \n",
      "max       10.570000     82.740000  \n"
     ]
    }
   ],
   "source": [
    "print(df.describe())"
   ]
  },
  {
   "cell_type": "markdown",
   "metadata": {},
   "source": [
    "# Inspeccion de datos"
   ]
  },
  {
   "cell_type": "code",
   "execution_count": 28,
   "metadata": {},
   "outputs": [
    {
     "name": "stdout",
     "output_type": "stream",
     "text": [
      "Rank              int64\n",
      "Name             object\n",
      "Platform         object\n",
      "Year            float64\n",
      "Genre            object\n",
      "Publisher        object\n",
      "NA_Sales        float64\n",
      "EU_Sales        float64\n",
      "JP_Sales        float64\n",
      "Other_Sales     float64\n",
      "Global_Sales    float64\n",
      "dtype: object\n"
     ]
    }
   ],
   "source": [
    "print(df.dtypes)"
   ]
  },
  {
   "cell_type": "markdown",
   "metadata": {},
   "source": [
    "# Conteo de valores unicos"
   ]
  },
  {
   "cell_type": "code",
   "execution_count": 29,
   "metadata": {},
   "outputs": [
    {
     "name": "stdout",
     "output_type": "stream",
     "text": [
      "Genre\n",
      "Action          3316\n",
      "Sports          2346\n",
      "Misc            1739\n",
      "Role-Playing    1488\n",
      "Shooter         1310\n",
      "Adventure       1286\n",
      "Racing          1249\n",
      "Platform         886\n",
      "Simulation       867\n",
      "Fighting         848\n",
      "Strategy         681\n",
      "Puzzle           582\n",
      "Name: count, dtype: int64\n"
     ]
    }
   ],
   "source": [
    "print(df['Genre'].value_counts())"
   ]
  },
  {
   "cell_type": "markdown",
   "metadata": {},
   "source": [
    "# Mostrar todos los valores únicos en la columna"
   ]
  },
  {
   "cell_type": "code",
   "execution_count": 30,
   "metadata": {},
   "outputs": [
    {
     "name": "stdout",
     "output_type": "stream",
     "text": [
      "['Wii' 'NES' 'GB' 'DS' 'X360' 'PS3' 'PS2' 'SNES' 'GBA' '3DS' 'PS4' 'N64'\n",
      " 'PS' 'XB' 'PC' '2600' 'PSP' 'XOne' 'GC' 'WiiU' 'GEN' 'DC' 'PSV' 'SAT'\n",
      " 'SCD' 'WS' 'NG' 'TG16' '3DO' 'GG' 'PCFX']\n"
     ]
    }
   ],
   "source": [
    "print(df['Platform'].unique())"
   ]
  },
  {
   "cell_type": "markdown",
   "metadata": {},
   "source": [
    "# Filtrado del DataFrame para mostrar solo las filas donde las ventas en América del Norte (NA_Sales) sean mayores a 1 millón."
   ]
  },
  {
   "cell_type": "code",
   "execution_count": 31,
   "metadata": {},
   "outputs": [
    {
     "name": "stdout",
     "output_type": "stream",
     "text": [
      "      Rank                            Name Platform    Year         Genre  \\\n",
      "0        1                      Wii Sports      Wii  2006.0        Sports   \n",
      "1        2               Super Mario Bros.      NES  1985.0      Platform   \n",
      "2        3                  Mario Kart Wii      Wii  2008.0        Racing   \n",
      "3        4               Wii Sports Resort      Wii  2009.0        Sports   \n",
      "4        5        Pokemon Red/Pokemon Blue       GB  1996.0  Role-Playing   \n",
      "...    ...                             ...      ...     ...           ...   \n",
      "1905  1907                           Joust     2600  1982.0      Platform   \n",
      "1917  1919                NCAA Football 14     X360  2013.0        Sports   \n",
      "1953  1955                       NFL Blitz      N64  1998.0        Sports   \n",
      "1954  1956         NFL Quarterback Club 98      N64  1997.0        Sports   \n",
      "1957  1959  Diablo II: Lord of Destruction       PC  2001.0  Role-Playing   \n",
      "\n",
      "                  Publisher  NA_Sales  EU_Sales  JP_Sales  Other_Sales  \\\n",
      "0                  Nintendo     41.49     29.02      3.77         8.46   \n",
      "1                  Nintendo     29.08      3.58      6.81         0.77   \n",
      "2                  Nintendo     15.85     12.88      3.79         3.31   \n",
      "3                  Nintendo     15.75     11.01      3.28         2.96   \n",
      "4                  Nintendo     11.27      8.89     10.22         1.00   \n",
      "...                     ...       ...       ...       ...          ...   \n",
      "1905                  Atari      1.01      0.06      0.00         0.01   \n",
      "1917        Electronic Arts      1.01      0.00      0.00         0.06   \n",
      "1953           Midway Games      1.02      0.04      0.00         0.01   \n",
      "1954  Acclaim Entertainment      1.01      0.05      0.00         0.01   \n",
      "1957          Vivendi Games      1.03      0.02      0.00         0.00   \n",
      "\n",
      "      Global_Sales  \n",
      "0            82.74  \n",
      "1            40.24  \n",
      "2            35.82  \n",
      "3            33.00  \n",
      "4            31.37  \n",
      "...            ...  \n",
      "1905          1.08  \n",
      "1917          1.07  \n",
      "1953          1.06  \n",
      "1954          1.06  \n",
      "1957          1.06  \n",
      "\n",
      "[895 rows x 11 columns]\n"
     ]
    }
   ],
   "source": [
    "df_na_sales = df[df['NA_Sales'] > 1]\n",
    "print(df_na_sales)"
   ]
  },
  {
   "cell_type": "markdown",
   "metadata": {},
   "source": [
    "# Filtrado del DataFrame para mostrar solo las filas donde las ventas en Japón (JP_Sales) sean menores a 0.1 millón."
   ]
  },
  {
   "cell_type": "code",
   "execution_count": 32,
   "metadata": {},
   "outputs": [
    {
     "name": "stdout",
     "output_type": "stream",
     "text": [
      "        Rank                                              Name Platform  \\\n",
      "23        24                                Grand Theft Auto V     X360   \n",
      "35        36                        Call of Duty: Black Ops II     X360   \n",
      "36        37                    Call of Duty: Modern Warfare 2     X360   \n",
      "60        61                                      Just Dance 3      Wii   \n",
      "61        62                              Call of Duty: Ghosts     X360   \n",
      "...      ...                                               ...      ...   \n",
      "16593  16596                Woody Woodpecker in Crazy Castle 5      GBA   \n",
      "16594  16597                     Men in Black II: Alien Escape       GC   \n",
      "16595  16598  SCORE International Baja 1000: The Official Game      PS2   \n",
      "16596  16599                                        Know How 2       DS   \n",
      "16597  16600                                  Spirits & Spells      GBA   \n",
      "\n",
      "         Year     Genre             Publisher  NA_Sales  EU_Sales  JP_Sales  \\\n",
      "23     2013.0    Action  Take-Two Interactive      9.63      5.31      0.06   \n",
      "35     2012.0   Shooter            Activision      8.25      4.30      0.07   \n",
      "36     2009.0   Shooter            Activision      8.52      3.63      0.08   \n",
      "60     2011.0      Misc               Ubisoft      6.05      3.15      0.00   \n",
      "61     2013.0   Shooter            Activision      6.72      2.63      0.04   \n",
      "...       ...       ...                   ...       ...       ...       ...   \n",
      "16593  2002.0  Platform                 Kemco      0.01      0.00      0.00   \n",
      "16594  2003.0   Shooter            Infogrames      0.01      0.00      0.00   \n",
      "16595  2008.0    Racing            Activision      0.00      0.00      0.00   \n",
      "16596  2010.0    Puzzle              7G//AMES      0.00      0.01      0.00   \n",
      "16597  2003.0  Platform               Wanadoo      0.01      0.00      0.00   \n",
      "\n",
      "       Other_Sales  Global_Sales  \n",
      "23            1.38         16.38  \n",
      "35            1.12         13.73  \n",
      "36            1.29         13.51  \n",
      "60            1.07         10.26  \n",
      "61            0.82         10.21  \n",
      "...            ...           ...  \n",
      "16593         0.00          0.01  \n",
      "16594         0.00          0.01  \n",
      "16595         0.00          0.01  \n",
      "16596         0.00          0.01  \n",
      "16597         0.00          0.01  \n",
      "\n",
      "[14021 rows x 11 columns]\n"
     ]
    }
   ],
   "source": [
    "df_jp_sales = df[df['JP_Sales'] < 0.1]\n",
    "print(df_jp_sales)"
   ]
  },
  {
   "cell_type": "markdown",
   "metadata": {},
   "source": [
    "# Filtrar usando query():"
   ]
  },
  {
   "cell_type": "code",
   "execution_count": 33,
   "metadata": {},
   "outputs": [
    {
     "name": "stdout",
     "output_type": "stream",
     "text": [
      "     Rank                                               Name Platform    Year  \\\n",
      "16     17                                 Grand Theft Auto V      PS3  2013.0   \n",
      "17     18                      Grand Theft Auto: San Andreas      PS2  2004.0   \n",
      "23     24                                 Grand Theft Auto V     X360  2013.0   \n",
      "24     25                        Grand Theft Auto: Vice City      PS2  2002.0   \n",
      "38     39                               Grand Theft Auto III      PS2  2001.0   \n",
      "..    ...                                                ...      ...     ...   \n",
      "815   817             Tom Clancy's Splinter Cell: Conviction     X360  2010.0   \n",
      "817   819                                    The Incredibles      GBA  2004.0   \n",
      "833   835  Peter Jackson's King Kong: The Official Game o...      PS2  2005.0   \n",
      "835   837                            Need for Speed: The Run      PS3  2011.0   \n",
      "840   842                                         Dead Space      PS3  2008.0   \n",
      "\n",
      "      Genre             Publisher  NA_Sales  EU_Sales  JP_Sales  Other_Sales  \\\n",
      "16   Action  Take-Two Interactive      7.01      9.27      0.97         4.14   \n",
      "17   Action  Take-Two Interactive      9.43      0.40      0.41        10.57   \n",
      "23   Action  Take-Two Interactive      9.63      5.31      0.06         1.38   \n",
      "24   Action  Take-Two Interactive      8.41      5.49      0.47         1.78   \n",
      "38   Action  Take-Two Interactive      6.99      4.51      0.30         1.30   \n",
      "..      ...                   ...       ...       ...       ...          ...   \n",
      "815  Action               Ubisoft      1.20      0.63      0.04         0.19   \n",
      "817  Action                   THQ      1.15      0.77      0.04         0.10   \n",
      "833  Action               Ubisoft      0.71      1.02      0.00         0.31   \n",
      "835  Action       Electronic Arts      0.58      1.06      0.03         0.37   \n",
      "840  Action       Electronic Arts      1.05      0.67      0.00         0.30   \n",
      "\n",
      "     Global_Sales  \n",
      "16          21.40  \n",
      "17          20.81  \n",
      "23          16.38  \n",
      "24          16.15  \n",
      "38          13.10  \n",
      "..            ...  \n",
      "815          2.06  \n",
      "817          2.06  \n",
      "833          2.04  \n",
      "835          2.04  \n",
      "840          2.02  \n",
      "\n",
      "[175 rows x 11 columns]\n"
     ]
    }
   ],
   "source": [
    "df_action_sales = df.query('Genre == \"Action\" and Global_Sales > 2')\n",
    "print(df_action_sales)"
   ]
  },
  {
   "cell_type": "markdown",
   "metadata": {},
   "source": [
    "# Selecciona y muestra solo las columnas Name y Global_Sales del DataFrame."
   ]
  },
  {
   "cell_type": "code",
   "execution_count": 34,
   "metadata": {},
   "outputs": [
    {
     "name": "stdout",
     "output_type": "stream",
     "text": [
      "                                                   Name  Global_Sales\n",
      "0                                            Wii Sports         82.74\n",
      "1                                     Super Mario Bros.         40.24\n",
      "2                                        Mario Kart Wii         35.82\n",
      "3                                     Wii Sports Resort         33.00\n",
      "4                              Pokemon Red/Pokemon Blue         31.37\n",
      "...                                                 ...           ...\n",
      "16593                Woody Woodpecker in Crazy Castle 5          0.01\n",
      "16594                     Men in Black II: Alien Escape          0.01\n",
      "16595  SCORE International Baja 1000: The Official Game          0.01\n",
      "16596                                        Know How 2          0.01\n",
      "16597                                  Spirits & Spells          0.01\n",
      "\n",
      "[16598 rows x 2 columns]\n"
     ]
    }
   ],
   "source": [
    "df_name_sales = df[['Name', 'Global_Sales']]\n",
    "print(df_name_sales)"
   ]
  },
  {
   "cell_type": "markdown",
   "metadata": {},
   "source": [
    "# Utilizando loc[], selecciona y muestra las filas de la 5 a la 10 (inclusive) y las columnas Name y Genre."
   ]
  },
  {
   "cell_type": "code",
   "execution_count": 35,
   "metadata": {},
   "outputs": [
    {
     "name": "stdout",
     "output_type": "stream",
     "text": [
      "                        Name         Genre\n",
      "4   Pokemon Red/Pokemon Blue  Role-Playing\n",
      "5                     Tetris        Puzzle\n",
      "6      New Super Mario Bros.      Platform\n",
      "7                   Wii Play          Misc\n",
      "8  New Super Mario Bros. Wii      Platform\n",
      "9                  Duck Hunt       Shooter\n"
     ]
    }
   ],
   "source": [
    "df_loc_slice = df.loc[4:9, ['Name', 'Genre']]\n",
    "print(df_loc_slice)"
   ]
  },
  {
   "cell_type": "markdown",
   "metadata": {},
   "source": [
    "# Utilizando iloc[], selecciona y muestra las primeras 5 filas y las primeras 3 columnas del DataFrame."
   ]
  },
  {
   "cell_type": "code",
   "execution_count": 36,
   "metadata": {},
   "outputs": [
    {
     "name": "stdout",
     "output_type": "stream",
     "text": [
      "   Rank                      Name Platform\n",
      "0     1                Wii Sports      Wii\n",
      "1     2         Super Mario Bros.      NES\n",
      "2     3            Mario Kart Wii      Wii\n",
      "3     4         Wii Sports Resort      Wii\n",
      "4     5  Pokemon Red/Pokemon Blue       GB\n"
     ]
    }
   ],
   "source": [
    "df_iloc_slice = df.iloc[:5, :3]\n",
    "print(df_iloc_slice)"
   ]
  }
 ],
 "metadata": {
  "kernelspec": {
   "display_name": "Python 3",
   "language": "python",
   "name": "python3"
  },
  "language_info": {
   "codemirror_mode": {
    "name": "ipython",
    "version": 3
   },
   "file_extension": ".py",
   "mimetype": "text/x-python",
   "name": "python",
   "nbconvert_exporter": "python",
   "pygments_lexer": "ipython3",
   "version": "3.13.0"
  }
 },
 "nbformat": 4,
 "nbformat_minor": 2
}
