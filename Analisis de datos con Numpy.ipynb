{
 "cells": [
  {
   "cell_type": "code",
   "execution_count": 1,
   "metadata": {},
   "outputs": [],
   "source": [
    "import numpy as np"
   ]
  },
  {
   "cell_type": "code",
   "execution_count": 2,
   "metadata": {},
   "outputs": [
    {
     "name": "stdout",
     "output_type": "stream",
     "text": [
      "Total de ventas por producto a lo largo de la semana: [1886 1660 1735 1576 1657 1529 1557 1796 1726 1785]\n",
      "Total de ventas por tienda a lo largo de la semana: [3390 3410 3119 3273 3715]\n",
      "Promedio de ventas por producto por día: [53.88571429 47.42857143 49.57142857 45.02857143 47.34285714 43.68571429\n",
      " 44.48571429 51.31428571 49.31428571 51.        ]\n",
      "Promedio de ventas por tienda por día: [48.42857143 48.71428571 44.55714286 46.75714286 53.07142857]\n",
      "Producto con mayor ventas: Producto 0\n",
      "Producto con menor ventas: Producto 5\n",
      "Tienda con mayor ventas: Tienda 4\n",
      "Tienda con menor ventas: Tienda 2\n"
     ]
    }
   ],
   "source": [
    "# Genera datos de ventas aleatorias para el número de productos, tiendas y días especificados\n",
    "def generar_datos_ventas(productos, tiendas, dias):\n",
    "    return np.random.randint(0, 101, (productos, tiendas, dias))\n",
    "\n",
    "# Calcula el total de ventas por producto a lo largo de la semana\n",
    "def calcular_totales_ventas_por_producto(datos):\n",
    "    return np.sum(datos, axis=(1, 2))\n",
    "\n",
    "# Calcula el total de ventas por tienda a lo largo de la semana\n",
    "def calcular_totales_ventas_por_tienda(datos):\n",
    "    return np.sum(datos, axis=(0, 2))\n",
    "\n",
    "# Calcula el promedio de ventas por producto por día\n",
    "def calcular_promedio_ventas_por_producto(datos):\n",
    "    return np.mean(datos, axis=(1, 2))\n",
    "\n",
    "# Calcula el promedio de ventas por tienda por día\n",
    "def calcular_promedio_ventas_por_tienda(datos):\n",
    "    return np.mean(datos, axis=(0, 2))\n",
    "\n",
    "# Encuentra el producto con mayor y menor ventas totales en la semana\n",
    "def encontrar_producto_mayor_menor_ventas(totales_por_producto):\n",
    "    producto_mayor_ventas = np.argmax(totales_por_producto)\n",
    "    producto_menor_ventas = np.argmin(totales_por_producto)\n",
    "    return producto_mayor_ventas, producto_menor_ventas\n",
    "\n",
    "# Encuentra la tienda con mayor y menor ventas totales en la semana\n",
    "def encontrar_tienda_mayor_menor_ventas(totales_por_tienda):\n",
    "    tienda_mayor_ventas = np.argmax(totales_por_tienda)\n",
    "    tienda_menor_ventas = np.argmin(totales_por_tienda)\n",
    "    return tienda_mayor_ventas, tienda_menor_ventas\n",
    "\n",
    "# Función principal que imprime un resumen de las ventas y estadísticas\n",
    "def imprimir_resumen():\n",
    "    productos = 10\n",
    "    tiendas = 5\n",
    "    dias = 7\n",
    "\n",
    "    # Genera los datos de ventas\n",
    "    datos = generar_datos_ventas(productos, tiendas, dias)\n",
    "\n",
    "    # Calcula los totales y promedios\n",
    "    totales_por_producto = calcular_totales_ventas_por_producto(datos)\n",
    "    totales_por_tienda = calcular_totales_ventas_por_tienda(datos)\n",
    "    promedio_por_producto = calcular_promedio_ventas_por_producto(datos)\n",
    "    promedio_por_tienda = calcular_promedio_ventas_por_tienda(datos)\n",
    "\n",
    "    # Encuentra el producto y la tienda con mayor y menor ventas\n",
    "    producto_mayor_ventas, producto_menor_ventas = encontrar_producto_mayor_menor_ventas(totales_por_producto)\n",
    "    tienda_mayor_ventas, tienda_menor_ventas = encontrar_tienda_mayor_menor_ventas(totales_por_tienda)\n",
    "\n",
    "    # Imprime los resultados\n",
    "    print(\"Total de ventas por producto a lo largo de la semana:\", totales_por_producto)\n",
    "    print(\"Total de ventas por tienda a lo largo de la semana:\", totales_por_tienda)\n",
    "    print(\"Promedio de ventas por producto por día:\", promedio_por_producto)\n",
    "    print(\"Promedio de ventas por tienda por día:\", promedio_por_tienda)\n",
    "    print(f\"Producto con mayor ventas: Producto {producto_mayor_ventas}\")\n",
    "    print(f\"Producto con menor ventas: Producto {producto_menor_ventas}\")\n",
    "    print(f\"Tienda con mayor ventas: Tienda {tienda_mayor_ventas}\")\n",
    "    print(f\"Tienda con menor ventas: Tienda {tienda_menor_ventas}\")\n",
    "\n",
    "# Llamada a la función principal\n",
    "imprimir_resumen()"
   ]
  }
 ],
 "metadata": {
  "kernelspec": {
   "display_name": "Python 3",
   "language": "python",
   "name": "python3"
  },
  "language_info": {
   "codemirror_mode": {
    "name": "ipython",
    "version": 3
   },
   "file_extension": ".py",
   "mimetype": "text/x-python",
   "name": "python",
   "nbconvert_exporter": "python",
   "pygments_lexer": "ipython3",
   "version": "3.13.0"
  }
 },
 "nbformat": 4,
 "nbformat_minor": 2
}
