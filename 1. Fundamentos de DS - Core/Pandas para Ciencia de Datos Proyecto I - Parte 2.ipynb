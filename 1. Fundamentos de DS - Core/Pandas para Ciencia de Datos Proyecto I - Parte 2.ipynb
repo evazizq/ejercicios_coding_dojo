{
 "cells": [
  {
   "cell_type": "code",
   "execution_count": 1,
   "metadata": {},
   "outputs": [],
   "source": [
    "import pandas as pd"
   ]
  },
  {
   "cell_type": "code",
   "execution_count": 2,
   "metadata": {},
   "outputs": [],
   "source": [
    "df = pd.read_csv(\"C:/Users/hp/Downloads/archive (4)/Retail_sales.csv\")"
   ]
  },
  {
   "cell_type": "markdown",
   "metadata": {},
   "source": [
    "# Mostrar las 10 primeras filas"
   ]
  },
  {
   "cell_type": "code",
   "execution_count": 3,
   "metadata": {},
   "outputs": [
    {
     "name": "stdout",
     "output_type": "stream",
     "text": [
      "     Store ID  Product ID        Date  Units Sold  Sales Revenue (USD)  \\\n",
      "0  Spearsland    52372247  2022-01-01           9              2741.69   \n",
      "1  Spearsland    52372247  2022-01-02           7              2665.53   \n",
      "2  Spearsland    52372247  2022-01-03           1               380.79   \n",
      "3  Spearsland    52372247  2022-01-04           4              1523.16   \n",
      "4  Spearsland    52372247  2022-01-05           2               761.58   \n",
      "5  Spearsland    52372247  2022-01-06           8              3046.32   \n",
      "6  Spearsland    52372247  2022-01-07           6              2284.74   \n",
      "7  Spearsland    52372247  2022-01-08           9              3427.11   \n",
      "8  Spearsland    52372247  2022-01-09           7              2665.53   \n",
      "9  Spearsland    52372247  2022-01-10           1               380.79   \n",
      "\n",
      "   Discount Percentage  Marketing Spend (USD)             Store Location  \\\n",
      "0                   20                     81                   Tanzania   \n",
      "1                    0                      0                 Mauritania   \n",
      "2                    0                      0  Saint Pierre and Miquelon   \n",
      "3                    0                      0                  Australia   \n",
      "4                    0                      0                  Swaziland   \n",
      "5                    0                     41                     Bhutan   \n",
      "6                    0                      0                   Suriname   \n",
      "7                    0                     83                     Taiwan   \n",
      "8                    0                      0           Papua New Guinea   \n",
      "9                    0                    164                     Canada   \n",
      "\n",
      "  Product Category Day of the Week  Holiday Effect  \n",
      "0        Furniture        Saturday           False  \n",
      "1        Furniture          Sunday           False  \n",
      "2        Furniture          Monday           False  \n",
      "3        Furniture         Tuesday           False  \n",
      "4        Furniture       Wednesday           False  \n",
      "5        Furniture        Thursday           False  \n",
      "6        Furniture          Friday           False  \n",
      "7        Furniture        Saturday           False  \n",
      "8        Furniture          Sunday           False  \n",
      "9        Furniture          Monday           False  \n"
     ]
    }
   ],
   "source": [
    "print(df.head(10))"
   ]
  },
  {
   "cell_type": "markdown",
   "metadata": {},
   "source": [
    "# Para ver las últimas 5 filas"
   ]
  },
  {
   "cell_type": "code",
   "execution_count": 4,
   "metadata": {},
   "outputs": [
    {
     "name": "stdout",
     "output_type": "stream",
     "text": [
      "         Store ID  Product ID        Date  Units Sold  Sales Revenue (USD)  \\\n",
      "29995  Spearsland    50239115  2022-01-25           5              2501.15   \n",
      "29996  Spearsland    50239115  2022-01-26           3              1500.69   \n",
      "29997  Spearsland    50239115  2022-01-27           6              3001.38   \n",
      "29998  Spearsland    50239115  2022-01-28           5              2501.15   \n",
      "29999  Spearsland    50239115  2022-01-29           3              1425.66   \n",
      "\n",
      "       Discount Percentage  Marketing Spend (USD)  \\\n",
      "29995                    0                    100   \n",
      "29996                    0                      0   \n",
      "29997                    0                      0   \n",
      "29998                    0                      0   \n",
      "29999                    5                    190   \n",
      "\n",
      "                                     Store Location Product Category  \\\n",
      "29995                                        Malawi         Clothing   \n",
      "29996                                         Sudan         Clothing   \n",
      "29997  South Georgia and the South Sandwich Islands         Clothing   \n",
      "29998                                         Haiti         Clothing   \n",
      "29999                                    Mozambique         Clothing   \n",
      "\n",
      "      Day of the Week  Holiday Effect  \n",
      "29995         Tuesday           False  \n",
      "29996       Wednesday           False  \n",
      "29997        Thursday           False  \n",
      "29998          Friday           False  \n",
      "29999        Saturday           False  \n"
     ]
    }
   ],
   "source": [
    "print(df.tail())"
   ]
  },
  {
   "cell_type": "markdown",
   "metadata": {},
   "source": [
    "# Obtener informacion general"
   ]
  },
  {
   "cell_type": "code",
   "execution_count": 5,
   "metadata": {},
   "outputs": [
    {
     "name": "stdout",
     "output_type": "stream",
     "text": [
      "<class 'pandas.core.frame.DataFrame'>\n",
      "RangeIndex: 30000 entries, 0 to 29999\n",
      "Data columns (total 11 columns):\n",
      " #   Column                 Non-Null Count  Dtype  \n",
      "---  ------                 --------------  -----  \n",
      " 0   Store ID               30000 non-null  object \n",
      " 1   Product ID             30000 non-null  int64  \n",
      " 2   Date                   30000 non-null  object \n",
      " 3   Units Sold             30000 non-null  int64  \n",
      " 4   Sales Revenue (USD)    30000 non-null  float64\n",
      " 5   Discount Percentage    30000 non-null  int64  \n",
      " 6   Marketing Spend (USD)  30000 non-null  int64  \n",
      " 7   Store Location         30000 non-null  object \n",
      " 8   Product Category       30000 non-null  object \n",
      " 9   Day of the Week        30000 non-null  object \n",
      " 10  Holiday Effect         30000 non-null  bool   \n",
      "dtypes: bool(1), float64(1), int64(4), object(5)\n",
      "memory usage: 2.3+ MB\n",
      "None\n"
     ]
    }
   ],
   "source": [
    "print(df.info())"
   ]
  },
  {
   "cell_type": "markdown",
   "metadata": {},
   "source": [
    "# Ver estadisticas descriptivas"
   ]
  },
  {
   "cell_type": "code",
   "execution_count": 6,
   "metadata": {},
   "outputs": [
    {
     "name": "stdout",
     "output_type": "stream",
     "text": [
      "         Product ID    Units Sold  Sales Revenue (USD)  Discount Percentage  \\\n",
      "count  3.000000e+04  30000.000000         30000.000000         30000.000000   \n",
      "mean   4.461294e+07      6.161967          2749.509593             2.973833   \n",
      "std    2.779759e+07      3.323929          2568.639288             5.974530   \n",
      "min    3.636541e+06      0.000000             0.000000             0.000000   \n",
      "25%    2.228600e+07      4.000000           882.592500             0.000000   \n",
      "50%    4.002449e+07      6.000000          1902.420000             0.000000   \n",
      "75%    6.559352e+07      8.000000          3863.920000             0.000000   \n",
      "max    9.628253e+07     56.000000         27165.880000            20.000000   \n",
      "\n",
      "       Marketing Spend (USD)  \n",
      "count           30000.000000  \n",
      "mean               49.944033  \n",
      "std                64.401655  \n",
      "min                 0.000000  \n",
      "25%                 0.000000  \n",
      "50%                 1.000000  \n",
      "75%               100.000000  \n",
      "max               199.000000  \n"
     ]
    }
   ],
   "source": [
    "print(df.describe())"
   ]
  },
  {
   "cell_type": "markdown",
   "metadata": {},
   "source": [
    "# Inspeccion de datos"
   ]
  },
  {
   "cell_type": "code",
   "execution_count": 7,
   "metadata": {},
   "outputs": [
    {
     "name": "stdout",
     "output_type": "stream",
     "text": [
      "Store ID                  object\n",
      "Product ID                 int64\n",
      "Date                      object\n",
      "Units Sold                 int64\n",
      "Sales Revenue (USD)      float64\n",
      "Discount Percentage        int64\n",
      "Marketing Spend (USD)      int64\n",
      "Store Location            object\n",
      "Product Category          object\n",
      "Day of the Week           object\n",
      "Holiday Effect              bool\n",
      "dtype: object\n"
     ]
    }
   ],
   "source": [
    "print(df.dtypes)"
   ]
  },
  {
   "cell_type": "markdown",
   "metadata": {},
   "source": [
    "# Conteo de valores unicos"
   ]
  },
  {
   "cell_type": "code",
   "execution_count": 12,
   "metadata": {},
   "outputs": [
    {
     "name": "stdout",
     "output_type": "stream",
     "text": [
      "Store ID\n",
      "Spearsland    30000\n",
      "Name: count, dtype: int64\n",
      "Product Category\n",
      "Furniture      9503\n",
      "Electronics    8041\n",
      "Clothing       6608\n",
      "Groceries      5848\n",
      "Name: count, dtype: int64\n",
      "Store Location\n",
      "Korea                       237\n",
      "Congo                       234\n",
      "Turks and Caicos Islands    156\n",
      "Guam                        153\n",
      "Tanzania                    151\n",
      "                           ... \n",
      "Trinidad and Tobago          98\n",
      "Haiti                        96\n",
      "Dominica                     95\n",
      "Ireland                      92\n",
      "Andorra                      80\n",
      "Name: count, Length: 243, dtype: int64\n"
     ]
    }
   ],
   "source": [
    "print(df['Store ID'].value_counts())\n",
    "print(df['Product Category'].value_counts())\n",
    "print(df['Store Location'].value_counts())"
   ]
  },
  {
   "cell_type": "markdown",
   "metadata": {},
   "source": [
    "# Mostrar todos los valores únicos en la columna"
   ]
  },
  {
   "cell_type": "code",
   "execution_count": 13,
   "metadata": {},
   "outputs": [
    {
     "name": "stdout",
     "output_type": "stream",
     "text": [
      "['Spearsland']\n",
      "['Furniture' 'Electronics' 'Groceries' 'Clothing']\n",
      "['Tanzania' 'Mauritania' 'Saint Pierre and Miquelon' 'Australia'\n",
      " 'Swaziland' 'Bhutan' 'Suriname' 'Taiwan' 'Papua New Guinea' 'Canada'\n",
      " 'Vietnam' 'Cocos (Keeling) Islands' 'Lebanon' 'Luxembourg'\n",
      " 'French Guiana' 'Paraguay' 'Nauru' 'Italy' 'Saint Helena' 'Portugal'\n",
      " 'French Southern Territories' 'Colombia' 'Switzerland' 'Mali' 'Reunion'\n",
      " 'Romania' 'Dominican Republic' 'Sweden' 'Kiribati' 'Antigua and Barbuda'\n",
      " 'Czech Republic' 'Mauritius' 'Congo' 'Bouvet Island (Bouvetoya)'\n",
      " 'Hong Kong' 'Slovenia' 'Antarctica (the territory South of 60 deg S)'\n",
      " 'Trinidad and Tobago' 'Oman' 'Lithuania' 'Tokelau'\n",
      " 'Northern Mariana Islands' 'Sierra Leone' 'Libyan Arab Jamahiriya'\n",
      " 'Jersey' 'Saudi Arabia' 'United States of America' 'Germany'\n",
      " 'Saint Barthelemy' 'Montenegro' 'Tuvalu' 'Micronesia' 'Netherlands'\n",
      " 'Mexico' 'Puerto Rico' 'Palestinian Territory' 'Haiti' 'Sri Lanka'\n",
      " 'French Polynesia' 'Isle of Man' 'Christmas Island' 'Martinique'\n",
      " 'Kyrgyz Republic' 'Thailand' 'Seychelles' 'Algeria' 'Botswana' 'Jamaica'\n",
      " 'Slovakia (Slovak Republic)' 'Anguilla' 'El Salvador' 'Macao'\n",
      " 'Faroe Islands' 'North Macedonia' 'Nigeria' 'Korea' 'Zimbabwe'\n",
      " 'American Samoa' 'Saint Vincent and the Grenadines' 'Estonia' 'Poland'\n",
      " 'Belarus' 'United Arab Emirates' 'Iceland' 'Saint Lucia' 'Kenya'\n",
      " 'Moldova' 'France' 'Egypt' 'Gibraltar' 'Bangladesh' 'Ireland' 'Lesotho'\n",
      " \"Cote d'Ivoire\" 'Norway' 'Tajikistan' 'Pakistan' 'Cambodia' 'Rwanda'\n",
      " 'Cayman Islands' 'Togo' 'India' 'Cyprus' 'Guyana' 'Uruguay' 'Uzbekistan'\n",
      " 'Mayotte' 'Comoros' 'Guam'\n",
      " 'British Indian Ocean Territory (Chagos Archipelago)' 'Ethiopia' 'Brazil'\n",
      " 'Ukraine' 'South Georgia and the South Sandwich Islands' 'Serbia'\n",
      " 'Marshall Islands' 'Bosnia and Herzegovina' 'Nepal' 'Benin' 'Tonga'\n",
      " 'Mongolia' 'Fiji' 'Bahrain' 'Argentina' 'Indonesia' 'Jordan'\n",
      " 'Afghanistan' 'Svalbard & Jan Mayen Islands' 'Cook Islands' 'Panama'\n",
      " 'Eritrea' 'Spain' 'Greenland' 'Djibouti' 'Ecuador' 'Peru' 'Nicaragua'\n",
      " 'Liberia' 'Turkmenistan' 'Turks and Caicos Islands' 'Montserrat'\n",
      " 'Maldives' 'Armenia' 'Russian Federation' 'Western Sahara' 'Denmark'\n",
      " 'Vanuatu' 'Burundi' 'Singapore' 'Somalia' 'Norfolk Island' 'Israel'\n",
      " 'Tunisia' 'Ghana' 'Namibia' 'Sao Tome and Principe' 'Guadeloupe' 'Latvia'\n",
      " 'Grenada' 'United States Minor Outlying Islands' 'Pitcairn Islands'\n",
      " 'Malaysia' 'Costa Rica' 'Netherlands Antilles' 'Wallis and Futuna'\n",
      " 'Sudan' 'Heard Island and McDonald Islands' 'Equatorial Guinea' 'China'\n",
      " 'Guatemala' 'Zambia' 'United Kingdom' 'Madagascar' 'Bermuda' 'Azerbaijan'\n",
      " 'United States Virgin Islands' 'Guernsey'\n",
      " \"Lao People's Democratic Republic\" 'Niger' 'Timor-Leste' 'Georgia'\n",
      " 'Turkey' 'Philippines' 'Bahamas' 'Albania' 'Kazakhstan' 'Malawi' 'Greece'\n",
      " 'Dominica' 'Malta' 'Japan' 'Chile' 'Iran' 'San Marino' 'Cuba'\n",
      " 'New Caledonia' 'Austria' 'Kuwait' 'Palau' 'Liechtenstein'\n",
      " 'Central African Republic' 'Uganda' 'Morocco' 'Cameroon' 'Myanmar'\n",
      " 'Yemen' 'Samoa' 'British Virgin Islands' 'Angola' 'Barbados' 'Qatar'\n",
      " 'Honduras' 'Venezuela' 'Finland' 'Hungary' 'Syrian Arab Republic' 'Niue'\n",
      " 'Burkina Faso' 'Cape Verde' 'Solomon Islands' 'New Zealand'\n",
      " 'Saint Kitts and Nevis' 'Falkland Islands (Malvinas)' 'Belgium' 'Chad'\n",
      " 'Iraq' 'Bulgaria' 'Gambia' 'Aruba' 'Belize' 'Croatia' 'Saint Martin'\n",
      " 'Holy See (Vatican City State)' 'Andorra' 'Guinea-Bissau' 'South Africa'\n",
      " 'Bolivia' 'Mozambique' 'Brunei Darussalam' 'Gabon' 'Guinea' 'Monaco'\n",
      " 'Senegal']\n"
     ]
    }
   ],
   "source": [
    "print(df['Store ID'].unique())\n",
    "print(df['Product Category'].unique())\n",
    "print(df['Store Location'].unique())"
   ]
  }
 ],
 "metadata": {
  "kernelspec": {
   "display_name": "Python 3",
   "language": "python",
   "name": "python3"
  },
  "language_info": {
   "codemirror_mode": {
    "name": "ipython",
    "version": 3
   },
   "file_extension": ".py",
   "mimetype": "text/x-python",
   "name": "python",
   "nbconvert_exporter": "python",
   "pygments_lexer": "ipython3",
   "version": "3.13.0"
  }
 },
 "nbformat": 4,
 "nbformat_minor": 2
}
