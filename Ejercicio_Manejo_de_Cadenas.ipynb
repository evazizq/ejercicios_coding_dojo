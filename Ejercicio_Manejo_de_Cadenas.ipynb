{
 "cells": [
  {
   "cell_type": "markdown",
   "metadata": {},
   "source": [
    "Ejercicio 1: Saludo Personalizado\n"
   ]
  },
  {
   "cell_type": "code",
   "execution_count": 7,
   "metadata": {},
   "outputs": [
    {
     "name": "stdout",
     "output_type": "stream",
     "text": [
      "¡Hola, Esteban! Tienes 31 años. ¡Eres un adulto responsable, con gustos bien dementes!\n"
     ]
    }
   ],
   "source": [
    "# Solicitar el nombre del usuario\n",
    "nombre = input(\"Por favor, ingresa tu nombre: \")\n",
    "\n",
    "# Solicitar la edad del usuario\n",
    "edad = int(input(\"¿Cuántos años tienes? \"))\n",
    "\n",
    "# Imprimir el saludo personalizado\n",
    "print(f\"¡Hola, {nombre}! Tienes {edad} años. ¡Eres un adulto responsable, con gustos bien dementes!\")"
   ]
  },
  {
   "cell_type": "markdown",
   "metadata": {},
   "source": [
    "Ejercicio 2: Manipulación de Cadenas\n"
   ]
  },
  {
   "cell_type": "code",
   "execution_count": 8,
   "metadata": {},
   "outputs": [
    {
     "name": "stdout",
     "output_type": "stream",
     "text": [
      "Nombre completo: Esteban Alejandro Vazquez Izquierdo\n",
      "En mayúsculas: ESTEBAN ALEJANDRO VAZQUEZ IZQUIERDO\n",
      "En minúsculas: esteban alejandro vazquez izquierdo\n",
      "Número de letras (sin espacios): 32\n",
      "Nuevo nombre: Leonel Alejandro Vazquez Izquierdo\n"
     ]
    }
   ],
   "source": [
    "# Crear una cadena con el nombre completo\n",
    "nombre_completo = \"Esteban Alejandro Vazquez Izquierdo\"\n",
    "\n",
    "# Convertir el nombre a mayúsculas y minúsculas\n",
    "nombre_mayusculas = nombre_completo.upper()\n",
    "nombre_minusculas = nombre_completo.lower()\n",
    "\n",
    "# Contar el número de letras en el nombre (sin contar espacios)\n",
    "numero_letras = len(nombre_completo.replace(\" \", \"\"))\n",
    "\n",
    "# Reemplazar el primer nombre por otro nombre\n",
    "nuevo_nombre = nombre_completo.replace(\"Esteban\", \"Leonel\")\n",
    "\n",
    "# Mostrar los resultados\n",
    "print(\"Nombre completo:\", nombre_completo)\n",
    "print(\"En mayúsculas:\", nombre_mayusculas)\n",
    "print(\"En minúsculas:\", nombre_minusculas)\n",
    "print(\"Número de letras (sin espacios):\", numero_letras)\n",
    "print(\"Nuevo nombre:\", nuevo_nombre)"
   ]
  },
  {
   "cell_type": "markdown",
   "metadata": {},
   "source": [
    "Ejercicio 3: Lista de Nombres"
   ]
  },
  {
   "cell_type": "code",
   "execution_count": 9,
   "metadata": {},
   "outputs": [
    {
     "name": "stdout",
     "output_type": "stream",
     "text": [
      "Esteban\n",
      "Ruth\n",
      "Bruno\n"
     ]
    }
   ],
   "source": [
    "# Pedir al usuario que ingrese una lista de nombres separados por comas\n",
    "entrada = input(\"Ingresa una lista de nombres separados por comas: \")\n",
    "\n",
    "# Usar split para convertir la cadena en una lista de nombres\n",
    "lista_nombres = entrada.split(\",\")\n",
    "\n",
    "# Imprimir cada nombre en una línea separada\n",
    "for nombre in lista_nombres:\n",
    "    print(nombre.strip())"
   ]
  }
 ],
 "metadata": {
  "kernelspec": {
   "display_name": "Python 3",
   "language": "python",
   "name": "python3"
  },
  "language_info": {
   "codemirror_mode": {
    "name": "ipython",
    "version": 3
   },
   "file_extension": ".py",
   "mimetype": "text/x-python",
   "name": "python",
   "nbconvert_exporter": "python",
   "pygments_lexer": "ipython3",
   "version": "3.13.0"
  }
 },
 "nbformat": 4,
 "nbformat_minor": 2
}
