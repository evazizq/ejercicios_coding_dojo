{
 "cells": [
  {
   "cell_type": "code",
   "execution_count": 3,
   "metadata": {},
   "outputs": [
    {
     "name": "stdout",
     "output_type": "stream",
     "text": [
      "Debe ingresar un número entero válido para la cantidad de asignaturas.\n",
      "\n",
      "Resumen de calificaciones:\n",
      "Estudiante: Esteban, Promedio: 9.00, Estado: Aprobado\n"
     ]
    }
   ],
   "source": [
    "# Solicitud de ingreso de calificaciones por estudiante:\n",
    "def ingresar_calificacion():\n",
    "    while True:\n",
    "        try:\n",
    "            calificacion = float(input(\"Ingrese la calificación (0 a 10): \"))\n",
    "            if 0 <= calificacion <= 10:\n",
    "                return calificacion\n",
    "            else:\n",
    "                print(\"Calificación fuera del rango de 0 a 10. Por favor, intente nuevamente.\")\n",
    "        except ValueError:\n",
    "            print(\"Valor no válido. Ingrese un número para la calificación.\")\n",
    "\n",
    "# Cantidad de estudiantes de la clase:\n",
    "def gestionar_estudiantes():\n",
    "    estudiantes = []\n",
    "    try:\n",
    "        num_estudiantes = int(input(\"Ingrese el número de estudiantes: \"))\n",
    "    except ValueError:\n",
    "        print(\"Debe ingresar un número entero válido para la cantidad de estudiantes.\")\n",
    "        return gestionar_estudiantes()\n",
    "\n",
    "# Solicitud de ingreso de los nombres de los estudiantes y cantidad de asignaturas cursadas:\n",
    "    for _ in range(num_estudiantes):\n",
    "        estudiante = {}\n",
    "        estudiante['nombre'] = input(\"Ingrese el nombre del estudiante: \")\n",
    "        \n",
    "        try:\n",
    "            num_asignaturas = int(input(f\"Ingrese el número de asignaturas para {estudiante['nombre']}: \"))\n",
    "        except ValueError:\n",
    "            print(\"Debe ingresar un número entero válido para la cantidad de asignaturas.\")\n",
    "            continue\n",
    "\n",
    "# Solicitud de ingreso de asignaturas y calificacion de cada asignatura:\n",
    "        asignaturas = []\n",
    "        for _ in range(num_asignaturas):\n",
    "            asignatura = {}\n",
    "            asignatura['nombre'] = input(\"Ingrese el nombre de la asignatura: \")\n",
    "            asignatura['calificacion'] = ingresar_calificacion()\n",
    "            asignaturas.append(asignatura)\n",
    "\n",
    "# Calculo de promedio de calificacion:\n",
    "        estudiante['asignaturas'] = asignaturas\n",
    "        promedio = sum(asig['calificacion'] for asig in asignaturas) / len(asignaturas)\n",
    "        estudiante['promedio'] = promedio\n",
    "        estudiante['estado'] = \"Aprobado\" if promedio >= 6.0 else \"Reprobado\"\n",
    "        estudiantes.append(estudiante)\n",
    "\n",
    "# Resultado del calculo\n",
    "    print(\"\\nResumen de calificaciones:\")\n",
    "    for est in estudiantes:\n",
    "        print(f\"Estudiante: {est['nombre']}, Promedio: {est['promedio']:.2f}, Estado: {est['estado']}\")\n",
    "\n",
    "# Ejecución del calculo solicitado segun datos cargados por el usuario\n",
    "gestionar_estudiantes()\n"
   ]
  }
 ],
 "metadata": {
  "kernelspec": {
   "display_name": "Python 3",
   "language": "python",
   "name": "python3"
  },
  "language_info": {
   "codemirror_mode": {
    "name": "ipython",
    "version": 3
   },
   "file_extension": ".py",
   "mimetype": "text/x-python",
   "name": "python",
   "nbconvert_exporter": "python",
   "pygments_lexer": "ipython3",
   "version": "3.13.0"
  }
 },
 "nbformat": 4,
 "nbformat_minor": 2
}
