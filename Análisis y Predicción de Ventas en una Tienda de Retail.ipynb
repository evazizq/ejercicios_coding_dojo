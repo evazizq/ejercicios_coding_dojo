{
 "cells": [
  {
   "cell_type": "code",
   "execution_count": 49,
   "metadata": {},
   "outputs": [],
   "source": [
    "import pandas as pd"
   ]
  },
  {
   "cell_type": "code",
   "execution_count": 50,
   "metadata": {},
   "outputs": [
    {
     "name": "stdout",
     "output_type": "stream",
     "text": [
      "<class 'pandas.core.frame.DataFrame'>\n",
      "RangeIndex: 1000 entries, 0 to 999\n",
      "Data columns (total 9 columns):\n",
      " #   Column            Non-Null Count  Dtype \n",
      "---  ------            --------------  ----- \n",
      " 0   Transaction ID    1000 non-null   int64 \n",
      " 1   Date              1000 non-null   object\n",
      " 2   Customer ID       1000 non-null   object\n",
      " 3   Gender            1000 non-null   object\n",
      " 4   Age               1000 non-null   int64 \n",
      " 5   Product Category  1000 non-null   object\n",
      " 6   Quantity          1000 non-null   int64 \n",
      " 7   Price per Unit    1000 non-null   int64 \n",
      " 8   Total Amount      1000 non-null   int64 \n",
      "dtypes: int64(5), object(4)\n",
      "memory usage: 70.4+ KB\n"
     ]
    }
   ],
   "source": [
    "path = 'C:/Users/esteban.vazquez/ejercicios_coding_dojo/retail_sales_dataset.csv'\n",
    "df = pd.read_csv(filepath_or_buffer=path, sep= ',', header=0)\n",
    "df.info()"
   ]
  },
  {
   "cell_type": "code",
   "execution_count": 51,
   "metadata": {},
   "outputs": [
    {
     "data": {
      "text/html": [
       "<div>\n",
       "<style scoped>\n",
       "    .dataframe tbody tr th:only-of-type {\n",
       "        vertical-align: middle;\n",
       "    }\n",
       "\n",
       "    .dataframe tbody tr th {\n",
       "        vertical-align: top;\n",
       "    }\n",
       "\n",
       "    .dataframe thead th {\n",
       "        text-align: right;\n",
       "    }\n",
       "</style>\n",
       "<table border=\"1\" class=\"dataframe\">\n",
       "  <thead>\n",
       "    <tr style=\"text-align: right;\">\n",
       "      <th></th>\n",
       "      <th>Transaction ID</th>\n",
       "      <th>Date</th>\n",
       "      <th>Customer ID</th>\n",
       "      <th>Gender</th>\n",
       "      <th>Age</th>\n",
       "      <th>Product Category</th>\n",
       "      <th>Quantity</th>\n",
       "      <th>Price per Unit</th>\n",
       "      <th>Total Amount</th>\n",
       "    </tr>\n",
       "  </thead>\n",
       "  <tbody>\n",
       "    <tr>\n",
       "      <th>0</th>\n",
       "      <td>1</td>\n",
       "      <td>2023-11-24</td>\n",
       "      <td>CUST001</td>\n",
       "      <td>Male</td>\n",
       "      <td>34</td>\n",
       "      <td>Beauty</td>\n",
       "      <td>3</td>\n",
       "      <td>50</td>\n",
       "      <td>150</td>\n",
       "    </tr>\n",
       "    <tr>\n",
       "      <th>1</th>\n",
       "      <td>2</td>\n",
       "      <td>2023-02-27</td>\n",
       "      <td>CUST002</td>\n",
       "      <td>Female</td>\n",
       "      <td>26</td>\n",
       "      <td>Clothing</td>\n",
       "      <td>2</td>\n",
       "      <td>500</td>\n",
       "      <td>1000</td>\n",
       "    </tr>\n",
       "    <tr>\n",
       "      <th>2</th>\n",
       "      <td>3</td>\n",
       "      <td>2023-01-13</td>\n",
       "      <td>CUST003</td>\n",
       "      <td>Male</td>\n",
       "      <td>50</td>\n",
       "      <td>Electronics</td>\n",
       "      <td>1</td>\n",
       "      <td>30</td>\n",
       "      <td>30</td>\n",
       "    </tr>\n",
       "    <tr>\n",
       "      <th>3</th>\n",
       "      <td>4</td>\n",
       "      <td>2023-05-21</td>\n",
       "      <td>CUST004</td>\n",
       "      <td>Male</td>\n",
       "      <td>37</td>\n",
       "      <td>Clothing</td>\n",
       "      <td>1</td>\n",
       "      <td>500</td>\n",
       "      <td>500</td>\n",
       "    </tr>\n",
       "    <tr>\n",
       "      <th>4</th>\n",
       "      <td>5</td>\n",
       "      <td>2023-05-06</td>\n",
       "      <td>CUST005</td>\n",
       "      <td>Male</td>\n",
       "      <td>30</td>\n",
       "      <td>Beauty</td>\n",
       "      <td>2</td>\n",
       "      <td>50</td>\n",
       "      <td>100</td>\n",
       "    </tr>\n",
       "  </tbody>\n",
       "</table>\n",
       "</div>"
      ],
      "text/plain": [
       "   Transaction ID        Date Customer ID  Gender  Age Product Category  \\\n",
       "0               1  2023-11-24     CUST001    Male   34           Beauty   \n",
       "1               2  2023-02-27     CUST002  Female   26         Clothing   \n",
       "2               3  2023-01-13     CUST003    Male   50      Electronics   \n",
       "3               4  2023-05-21     CUST004    Male   37         Clothing   \n",
       "4               5  2023-05-06     CUST005    Male   30           Beauty   \n",
       "\n",
       "   Quantity  Price per Unit  Total Amount  \n",
       "0         3              50           150  \n",
       "1         2             500          1000  \n",
       "2         1              30            30  \n",
       "3         1             500           500  \n",
       "4         2              50           100  "
      ]
     },
     "execution_count": 51,
     "metadata": {},
     "output_type": "execute_result"
    }
   ],
   "source": [
    "df.head()"
   ]
  },
  {
   "cell_type": "markdown",
   "metadata": {},
   "source": [
    "# Identificar duplicados"
   ]
  },
  {
   "cell_type": "code",
   "execution_count": 52,
   "metadata": {},
   "outputs": [
    {
     "name": "stdout",
     "output_type": "stream",
     "text": [
      "Número de registros duplicados: 0\n"
     ]
    },
    {
     "data": {
      "text/html": [
       "<div>\n",
       "<style scoped>\n",
       "    .dataframe tbody tr th:only-of-type {\n",
       "        vertical-align: middle;\n",
       "    }\n",
       "\n",
       "    .dataframe tbody tr th {\n",
       "        vertical-align: top;\n",
       "    }\n",
       "\n",
       "    .dataframe thead th {\n",
       "        text-align: right;\n",
       "    }\n",
       "</style>\n",
       "<table border=\"1\" class=\"dataframe\">\n",
       "  <thead>\n",
       "    <tr style=\"text-align: right;\">\n",
       "      <th></th>\n",
       "      <th>Transaction ID</th>\n",
       "      <th>Date</th>\n",
       "      <th>Customer ID</th>\n",
       "      <th>Gender</th>\n",
       "      <th>Age</th>\n",
       "      <th>Product Category</th>\n",
       "      <th>Quantity</th>\n",
       "      <th>Price per Unit</th>\n",
       "      <th>Total Amount</th>\n",
       "    </tr>\n",
       "  </thead>\n",
       "  <tbody>\n",
       "    <tr>\n",
       "      <th>0</th>\n",
       "      <td>1</td>\n",
       "      <td>2023-11-24</td>\n",
       "      <td>CUST001</td>\n",
       "      <td>Male</td>\n",
       "      <td>34</td>\n",
       "      <td>Beauty</td>\n",
       "      <td>3</td>\n",
       "      <td>50</td>\n",
       "      <td>150</td>\n",
       "    </tr>\n",
       "    <tr>\n",
       "      <th>1</th>\n",
       "      <td>2</td>\n",
       "      <td>2023-02-27</td>\n",
       "      <td>CUST002</td>\n",
       "      <td>Female</td>\n",
       "      <td>26</td>\n",
       "      <td>Clothing</td>\n",
       "      <td>2</td>\n",
       "      <td>500</td>\n",
       "      <td>1000</td>\n",
       "    </tr>\n",
       "    <tr>\n",
       "      <th>2</th>\n",
       "      <td>3</td>\n",
       "      <td>2023-01-13</td>\n",
       "      <td>CUST003</td>\n",
       "      <td>Male</td>\n",
       "      <td>50</td>\n",
       "      <td>Electronics</td>\n",
       "      <td>1</td>\n",
       "      <td>30</td>\n",
       "      <td>30</td>\n",
       "    </tr>\n",
       "    <tr>\n",
       "      <th>3</th>\n",
       "      <td>4</td>\n",
       "      <td>2023-05-21</td>\n",
       "      <td>CUST004</td>\n",
       "      <td>Male</td>\n",
       "      <td>37</td>\n",
       "      <td>Clothing</td>\n",
       "      <td>1</td>\n",
       "      <td>500</td>\n",
       "      <td>500</td>\n",
       "    </tr>\n",
       "    <tr>\n",
       "      <th>4</th>\n",
       "      <td>5</td>\n",
       "      <td>2023-05-06</td>\n",
       "      <td>CUST005</td>\n",
       "      <td>Male</td>\n",
       "      <td>30</td>\n",
       "      <td>Beauty</td>\n",
       "      <td>2</td>\n",
       "      <td>50</td>\n",
       "      <td>100</td>\n",
       "    </tr>\n",
       "  </tbody>\n",
       "</table>\n",
       "</div>"
      ],
      "text/plain": [
       "   Transaction ID        Date Customer ID  Gender  Age Product Category  \\\n",
       "0               1  2023-11-24     CUST001    Male   34           Beauty   \n",
       "1               2  2023-02-27     CUST002  Female   26         Clothing   \n",
       "2               3  2023-01-13     CUST003    Male   50      Electronics   \n",
       "3               4  2023-05-21     CUST004    Male   37         Clothing   \n",
       "4               5  2023-05-06     CUST005    Male   30           Beauty   \n",
       "\n",
       "   Quantity  Price per Unit  Total Amount  \n",
       "0         3              50           150  \n",
       "1         2             500          1000  \n",
       "2         1              30            30  \n",
       "3         1             500           500  \n",
       "4         2              50           100  "
      ]
     },
     "execution_count": 52,
     "metadata": {},
     "output_type": "execute_result"
    }
   ],
   "source": [
    "duplicados = df.duplicated()\n",
    "num_duplicados = duplicados.sum()\n",
    "print(f\"Número de registros duplicados: {num_duplicados}\")\n",
    "df.head()"
   ]
  },
  {
   "cell_type": "code",
   "execution_count": 53,
   "metadata": {},
   "outputs": [],
   "source": [
    "# Paso 1: Calcular el total de ventas por categoría de producto\n",
    "total_sales_by_category = df.groupby('Product Category')['Total Amount'].sum()"
   ]
  },
  {
   "cell_type": "code",
   "execution_count": 54,
   "metadata": {},
   "outputs": [],
   "source": [
    "# Paso 2: Calcular el promedio de ventas diarias por categoría de producto\n",
    "# Convertir la columna de fecha a tipo datetime para calcular el promedio por día\n",
    "df['Date'] = pd.to_datetime(df['Date'])"
   ]
  },
  {
   "cell_type": "code",
   "execution_count": 55,
   "metadata": {},
   "outputs": [],
   "source": [
    "# Calcular el promedio diario de ventas por categoría\n",
    "average_daily_sales_by_category = df.groupby(['Product Category', 'Date'])['Total Amount'].sum().groupby('Product Category').mean()"
   ]
  },
  {
   "cell_type": "code",
   "execution_count": 56,
   "metadata": {},
   "outputs": [
    {
     "data": {
      "text/plain": [
       "(Product Category\n",
       " Beauty         143515\n",
       " Clothing       155580\n",
       " Electronics    156905\n",
       " Name: Total Amount, dtype: int64,\n",
       " Product Category\n",
       " Beauty         703.504902\n",
       " Clothing       670.603448\n",
       " Electronics    716.461187\n",
       " Name: Total Amount, dtype: float64,\n",
       " 'Electronics',\n",
       " 'Beauty')"
      ]
     },
     "execution_count": 56,
     "metadata": {},
     "output_type": "execute_result"
    }
   ],
   "source": [
    "# Paso 3: Identificar las categorías de productos con mayores y menores ventas\n",
    "highest_sales_category = total_sales_by_category.idxmax()\n",
    "lowest_sales_category = total_sales_by_category.idxmin()\n",
    "\n",
    "total_sales_by_category, average_daily_sales_by_category, highest_sales_category, lowest_sales_category"
   ]
  },
  {
   "cell_type": "code",
   "execution_count": 57,
   "metadata": {},
   "outputs": [],
   "source": [
    "# Paso 4: Filtrar los datos para mostrar solo las ventas de la categoría \"Electronics\"\n",
    "electronics_sales = df[df['Product Category'] == 'Electronics']"
   ]
  },
  {
   "cell_type": "code",
   "execution_count": 58,
   "metadata": {},
   "outputs": [],
   "source": [
    "# Paso 5: Realizar operaciones de suma, resta, multiplicación y división en los datos para estadísticas adicionales\n",
    "# Calcular la suma de las cantidades vendidas en la categoría \"Electronics\"\n",
    "sum_quantity_electronics = electronics_sales['Quantity'].sum()"
   ]
  },
  {
   "cell_type": "code",
   "execution_count": 59,
   "metadata": {},
   "outputs": [],
   "source": [
    "# Calcular la resta entre el monto total y el monto promedio de ventas en esta categoría\n",
    "mean_total_amount_electronics = electronics_sales['Total Amount'].mean()\n",
    "difference_total_vs_mean = electronics_sales['Total Amount'] - mean_total_amount_electronics"
   ]
  },
  {
   "cell_type": "code",
   "execution_count": 60,
   "metadata": {},
   "outputs": [
    {
     "name": "stderr",
     "output_type": "stream",
     "text": [
      "C:\\Users\\esteban.vazquez\\AppData\\Local\\Temp\\ipykernel_8168\\4249362837.py:2: SettingWithCopyWarning: \n",
      "A value is trying to be set on a copy of a slice from a DataFrame.\n",
      "Try using .loc[row_indexer,col_indexer] = value instead\n",
      "\n",
      "See the caveats in the documentation: https://pandas.pydata.org/pandas-docs/stable/user_guide/indexing.html#returning-a-view-versus-a-copy\n",
      "  electronics_sales['Calculated Total'] = electronics_sales['Quantity'] * electronics_sales['Price per Unit']\n"
     ]
    }
   ],
   "source": [
    "# Multiplicación: Precio por Unidad y Cantidad, verificando la consistencia de Total Amount\n",
    "electronics_sales['Calculated Total'] = electronics_sales['Quantity'] * electronics_sales['Price per Unit']"
   ]
  },
  {
   "cell_type": "code",
   "execution_count": 61,
   "metadata": {},
   "outputs": [
    {
     "name": "stderr",
     "output_type": "stream",
     "text": [
      "C:\\Users\\esteban.vazquez\\AppData\\Local\\Temp\\ipykernel_8168\\3452013828.py:13: SettingWithCopyWarning: \n",
      "A value is trying to be set on a copy of a slice from a DataFrame.\n",
      "Try using .loc[row_indexer,col_indexer] = value instead\n",
      "\n",
      "See the caveats in the documentation: https://pandas.pydata.org/pandas-docs/stable/user_guide/indexing.html#returning-a-view-versus-a-copy\n",
      "  electronics_sales['Calculated Total'] = electronics_sales['Quantity'] * electronics_sales['Price per Unit']\n"
     ]
    },
    {
     "data": {
      "text/plain": [
       "(    Transaction ID       Date Customer ID  Gender  Age Product Category  \\\n",
       " 2                3 2023-01-13     CUST003    Male   50      Electronics   \n",
       " 7                8 2023-02-22     CUST008    Male   30      Electronics   \n",
       " 8                9 2023-12-13     CUST009    Male   63      Electronics   \n",
       " 12              13 2023-08-05     CUST013    Male   22      Electronics   \n",
       " 14              15 2023-01-16     CUST015  Female   42      Electronics   \n",
       " \n",
       "     Quantity  Price per Unit  Total Amount  Calculated Total  \n",
       " 2          1              30            30                30  \n",
       " 7          4              25           100               100  \n",
       " 8          2             300           600               600  \n",
       " 12         3             500          1500              1500  \n",
       " 14         4             500          2000              2000  ,\n",
       " np.int64(849),\n",
       " np.float64(458.7865497076023),\n",
       " 2     -428.78655\n",
       " 7     -358.78655\n",
       " 8      141.21345\n",
       " 12    1041.21345\n",
       " 14    1541.21345\n",
       " Name: Total Amount, dtype: float64,\n",
       "     Total Amount  Calculated Total\n",
       " 2             30                30\n",
       " 7            100               100\n",
       " 8            600               600\n",
       " 12          1500              1500\n",
       " 14          2000              2000,\n",
       " np.float64(73.27444051825677))"
      ]
     },
     "execution_count": 61,
     "metadata": {},
     "output_type": "execute_result"
    }
   ],
   "source": [
    "# Paso 4: Filtrar los datos para mostrar solo las ventas de la categoría \"Electronics\"\n",
    "electronics_sales = df[df['Product Category'] == 'Electronics']\n",
    "\n",
    "# Paso 5: Realizar operaciones de suma, resta, multiplicación y división en los datos para estadísticas adicionales\n",
    "# Calcular la suma de las cantidades vendidas en la categoría \"Electronics\"\n",
    "sum_quantity_electronics = electronics_sales['Quantity'].sum()\n",
    "\n",
    "# Calcular la resta entre el monto total y el monto promedio de ventas en esta categoría\n",
    "mean_total_amount_electronics = electronics_sales['Total Amount'].mean()\n",
    "difference_total_vs_mean = electronics_sales['Total Amount'] - mean_total_amount_electronics\n",
    "\n",
    "# Multiplicación: Precio por Unidad y Cantidad, verificando la consistencia de Total Amount\n",
    "electronics_sales['Calculated Total'] = electronics_sales['Quantity'] * electronics_sales['Price per Unit']\n",
    "\n",
    "# División: Precio por Unidad promedio de esta categoría entre la cantidad promedio para obtener relación\n",
    "avg_price_per_unit_electronics = electronics_sales['Price per Unit'].mean()\n",
    "avg_quantity_electronics = electronics_sales['Quantity'].mean()\n",
    "price_quantity_ratio = avg_price_per_unit_electronics / avg_quantity_electronics\n",
    "\n",
    "electronics_sales.head(), sum_quantity_electronics, mean_total_amount_electronics, difference_total_vs_mean.head(), electronics_sales[['Total Amount', 'Calculated Total']].head(), price_quantity_ratio"
   ]
  }
 ],
 "metadata": {
  "kernelspec": {
   "display_name": "Python 3",
   "language": "python",
   "name": "python3"
  },
  "language_info": {
   "codemirror_mode": {
    "name": "ipython",
    "version": 3
   },
   "file_extension": ".py",
   "mimetype": "text/x-python",
   "name": "python",
   "nbconvert_exporter": "python",
   "pygments_lexer": "ipython3",
   "version": "3.13.0"
  }
 },
 "nbformat": 4,
 "nbformat_minor": 2
}
